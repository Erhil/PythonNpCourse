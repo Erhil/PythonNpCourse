{
 "cells": [
  {
   "cell_type": "markdown",
   "metadata": {},
   "source": [
    "# Jupyter Notebook -- это удобно!"
   ]
  },
  {
   "cell_type": "markdown",
   "metadata": {},
   "source": [
    "Код организван отдельными болками. Блоки кода можно выполнять в произвольном порядке. Сочетает в себе достоинства полноценных скриптов и интерактивной оболочки. Порядок выполнения блоков указан слева от ячейки."
   ]
  },
  {
   "cell_type": "code",
   "execution_count": 2,
   "metadata": {},
   "outputs": [
    {
     "name": "stdout",
     "output_type": "stream",
     "text": [
      "2.0\n"
     ]
    }
   ],
   "source": [
    "print(math.sqrt(4))"
   ]
  },
  {
   "cell_type": "code",
   "execution_count": 1,
   "metadata": {
    "collapsed": true
   },
   "outputs": [],
   "source": [
    "import math"
   ]
  },
  {
   "cell_type": "markdown",
   "metadata": {},
   "source": [
    "К коду можно добавлять пояснения в ячейках с режимом markdown. Поддерживается различное форматирование: **bold**, *italic*, $\\LaTeX$\n",
    "\n",
    "\n",
    "# заголовки\n",
    "## различного\n",
    "### уровня\n",
    "\n",
    "* списки\n",
    "    * в \n",
    "    * том\n",
    "        * числе\n",
    "            * и\n",
    "                * вложенные\n",
    "                \n",
    "<a href=https://github.com/Erhil/PythonNpCourse><strong><i>HTML</i></strong></a>\n",
    "\n",
    "<img src=graph.png>картиночки</img>\n",
    "\n",
    "И многое дугое..."
   ]
  },
  {
   "cell_type": "markdown",
   "metadata": {},
   "source": [
    "### Для некоторых объектов доступно особое отображение."
   ]
  },
  {
   "cell_type": "code",
   "execution_count": 9,
   "metadata": {},
   "outputs": [
    {
     "data": {
      "text/plain": [
       "array([[1, 2, 3],\n",
       "       [4, 5, 6],\n",
       "       [7, 8, 9]])"
      ]
     },
     "execution_count": 9,
     "metadata": {},
     "output_type": "execute_result"
    }
   ],
   "source": [
    "import numpy as np\n",
    "np.array([[1,2,3],[4,5,6],[7,8,9]])"
   ]
  },
  {
   "cell_type": "markdown",
   "metadata": {},
   "source": [
    "## Горячие клавиши\n",
    "\n",
    "Использование горячих клавиш позволяет очень мильно облегчить и ускорить работу с любой программой, особенно связанной со вводом текста. В плане горячих клавиш очень продвинутым является текстовый редактор vim. В нем существует отдельный режим, мозволяющий пользоваться горячими клавишами. В Jupyter notebook поддерживается та же концепция."
   ]
  },
  {
   "cell_type": "markdown",
   "metadata": {
    "collapsed": true
   },
   "source": [
    "Существуют 2 режима работы: режим ввода и командный режим. Режим ввода отображается зеленой рамкой вокруг активной ячейки, командный режим -- синей. Для того, чтобы переключиться из режима ввода в командный режим необходимо нажать `Esc`, переход в режим редактирования осуществляется по нажатию клавиши `Enter`.\n",
    "\n",
    "**В командном режиме часто используются следующие горячие клавиши:**\n",
    "* `b` -- вставить пустую ячейку после текущей\n",
    "* `a` -- вставить пустую ячейку перед текучей\n",
    "-----\n",
    "* `c` -- копировать текущую ячейку\n",
    "* `x` -- вырезать ячейку\n",
    "* `v` -- вставить ячейку из буфера после текущей\n",
    "-----\n",
    "* `dd` -- удалить текущую ячейку\n",
    "* `z` -- отменить предыдущее действие (в юпитере не последней версии можно отменить ТОЛЬКО ОДНО действие) \n",
    "-----\n",
    "* `m` -- перевести ячейку в режим Markdown\n",
    "* `y` -- перевести ячейку в режим кода\n",
    "* `l` -- отображать номера строк\n",
    "* `o` -- скрыть/показать вывод текущей ячейки\n",
    "-----\n",
    "* `ii` -- остановить выполнение текущей ячейки\n",
    "* `00` -- перезагрузить ядро\n",
    "* `s` -- сохранить notebook\n",
    "-----\n",
    "* `h` -- Показать справку по горячим клавишам\n",
    "\n",
    "**Некоторые сочетания используются в режиме редактирования:**\n",
    "* `Tab` (в  начале строки либо для выделенных строк) -- добавить отступ\n",
    "* `Shift+Tab` (в  начале строки либо для выделенных строк) -- убрать отступ\n",
    "-----\n",
    "* `Tab` -- автодополнение вводимой команды\n",
    "* `Shift+Tab` -- показать docstring введеннной команды\n",
    "-----\n",
    "* `Clrl+/` -- закомментировать выделеные строки\n",
    "\n",
    "-----\n",
    "* `Shift+Enter` -- выполнить текущую ячейку кода и перейти к следующей\n",
    "* `Ctrl+Enter` -- выполнить текущую ячейку кода и остаться на ней\n",
    "* `Alt+Enter` -- выполнить текущую ячейку кода и создать новую"
   ]
  },
  {
   "cell_type": "markdown",
   "metadata": {},
   "source": [
    "Также Jupytr Notebook имеет большое количество встроенных \"магических\" функций. С некоторыми познакомимся в этом курсе, про другие стоит рассказать сразу."
   ]
  },
  {
   "cell_type": "code",
   "execution_count": null,
   "metadata": {
    "collapsed": true
   },
   "outputs": [],
   "source": []
  },
  {
   "cell_type": "code",
   "execution_count": null,
   "metadata": {
    "collapsed": true
   },
   "outputs": [],
   "source": []
  },
  {
   "cell_type": "markdown",
   "metadata": {},
   "source": [
    "## Горячие клавиши\n",
    "\n",
    "Использование горячих клавиш позволяет очень мильно облегчить и ускорить работу с любой программой, особенно связанной со вводом текста. В плане горячих клавиш очень продвинутым является текстовый редактор vim. В нем существует отдельный режим, мозволяющий пользоваться горячими клавишами. В Jupyter notebook поддерживается та же концепция."
   ]
  },
  {
   "cell_type": "markdown",
   "metadata": {},
   "source": [
    "Выполнение bat/bash комманд:"
   ]
  },
  {
   "cell_type": "code",
   "execution_count": 10,
   "metadata": {},
   "outputs": [
    {
     "name": "stdout",
     "output_type": "stream",
     "text": [
      " ’®¬ ў гбва®©бвўҐ D Ё¬ҐҐв ¬ҐвЄг DATA\n",
      " ‘ҐаЁ©­л© ­®¬Ґа в®¬ : E85E-2DA0\n",
      "\n",
      " ‘®¤Ґа¦Ё¬®Ґ Ї ЇЄЁ D:\\mipt\\Courses\\PythonNpCourse\\PythonNpCourse\\materials\n",
      "\n",
      "11.09.2018  18:34    <DIR>          .\n",
      "11.09.2018  18:34    <DIR>          ..\n",
      "10.09.2017  19:21    <DIR>          .ipynb_checkpoints\n",
      "18.06.2017  16:10           162я150 graph.png\n",
      "11.09.2018  18:34            21я434 Introduction_to_Python.ipynb\n",
      "10.09.2017  19:33               190 materials.md\n",
      "               3 д ©«®ў        183я774 Ў ©в\n",
      "               3 Ї Ї®Є  156я077я711я360 Ў ©в бў®Ў®¤­®\n"
     ]
    }
   ],
   "source": [
    "!dir"
   ]
  },
  {
   "cell_type": "markdown",
   "metadata": {},
   "source": [
    "Измерение времени выполнения ячейки кода:"
   ]
  },
  {
   "cell_type": "code",
   "execution_count": 22,
   "metadata": {},
   "outputs": [
    {
     "name": "stdout",
     "output_type": "stream",
     "text": [
      "Wall time: 13 ms\n"
     ]
    }
   ],
   "source": [
    "%%time\n",
    "a = 352e+10\n",
    "for i in range(10000):\n",
    "    a = math.sin(np.random.rand())"
   ]
  },
  {
   "cell_type": "markdown",
   "metadata": {},
   "source": [
    "Время выполнения конкретной строки из блока"
   ]
  },
  {
   "cell_type": "code",
   "execution_count": 24,
   "metadata": {},
   "outputs": [
    {
     "name": "stdout",
     "output_type": "stream",
     "text": [
      "Wall time: 0 ns\n"
     ]
    }
   ],
   "source": [
    "%time a = 352e+10\n",
    "for i in range(10000):\n",
    "    a = math.sin(np.random.rand())"
   ]
  },
  {
   "cell_type": "markdown",
   "metadata": {},
   "source": [
    "Замер времени выполнения в цикле"
   ]
  },
  {
   "cell_type": "code",
   "execution_count": 25,
   "metadata": {},
   "outputs": [
    {
     "name": "stdout",
     "output_type": "stream",
     "text": [
      "21 ns ± 1.59 ns per loop (mean ± std. dev. of 7 runs, 10000000 loops each)\n"
     ]
    }
   ],
   "source": [
    "%timeit \n",
    "a = 352e+10\n",
    "for i in range(1000):\n",
    "    a = math.sin(a)"
   ]
  },
  {
   "cell_type": "markdown",
   "metadata": {},
   "source": [
    "-------\n",
    "\n",
    "------\n",
    "\n",
    "-----"
   ]
  },
  {
   "cell_type": "markdown",
   "metadata": {},
   "source": [
    "# Язык Python\n",
    "\n",
    "Python -- мультипарадигмальный, сверхвысокоуровневый язык программирования. Он поддерживает строгую динамическую типизацию данных. \n",
    "\n",
    "Первая версия языка была выпущена в 1991 году. \n",
    "На данный момент существуют 2 параллельные версии языка -- 2.7.13 и 3.6.2. В данном курсе программа рассчитана на использование python v3.4+. Несмотря на то, что версии 2.* и 3.* являются разными версиями одного языка, в некотороых вопросах между ними существуют существенные различия. \n",
    "\n",
    "<a href=\"https://pythonworld.ru/osnovy/python2-vs-python3-razlichiya-sintaksisa.html\"> Некоторые различия в синтаксисе между 2 и 3 версиями. </a>"
   ]
  },
  {
   "cell_type": "markdown",
   "metadata": {},
   "source": [
    "**Достоинства Python:**\n",
    "* Огромная стандартная библиотека\n",
    "* Большое количество сторониих пакетов\n",
    "* Низкий порог вхождения\n",
    "* \n",
    "* <font color = \"red\">Интерпретируемый язык</font>\n",
    "* <font color = \"red\">Динамическая типизация</font>\n",
    "\n",
    "**Недостатки Python:**\n",
    "* ***СКОРОСТЬ***\n",
    "* <font color = \"red\">Интерпретируемый язык</font>\n",
    "* <font color = \"red\">Динамическая типизация</font>\n",
    "\n",
    "**Для чего подходит Python:**\n",
    "* Вычисления\n",
    "* Web-программирование\n",
    "* Анализ и визуалиция двнных\n",
    "* Автоматизация процессов\n",
    "* Прототипирование\n",
    "\n",
    "**Для чего не подходит Python:**\n",
    "* Написание больших приложений\n",
    "* Низкоуровневое программирование\n",
    "* Написание программ, ограниченных по памяти или времени"
   ]
  },
  {
   "cell_type": "markdown",
   "metadata": {},
   "source": [
    "**Python используют такие компании как:**\n",
    "* Google\n",
    "* Dropbox\n",
    "* Mozilla\n",
    "* Facebook\n",
    "* Yandex\n",
    "* Red Hat\n",
    "* Microsoft\n",
    "* Intel\n",
    "* ..."
   ]
  },
  {
   "cell_type": "markdown",
   "metadata": {},
   "source": [
    "Проuраммирование на Python не ограничивается написанием кода. "
   ]
  },
  {
   "cell_type": "code",
   "execution_count": 3,
   "metadata": {},
   "outputs": [
    {
     "name": "stdout",
     "output_type": "stream",
     "text": [
      "The Zen of Python, by Tim Peters\n",
      "\n",
      "Beautiful is better than ugly.\n",
      "Explicit is better than implicit.\n",
      "Simple is better than complex.\n",
      "Complex is better than complicated.\n",
      "Flat is better than nested.\n",
      "Sparse is better than dense.\n",
      "Readability counts.\n",
      "Special cases aren't special enough to break the rules.\n",
      "Although practicality beats purity.\n",
      "Errors should never pass silently.\n",
      "Unless explicitly silenced.\n",
      "In the face of ambiguity, refuse the temptation to guess.\n",
      "There should be one-- and preferably only one --obvious way to do it.\n",
      "Although that way may not be obvious at first unless you're Dutch.\n",
      "Now is better than never.\n",
      "Although never is often better than *right* now.\n",
      "If the implementation is hard to explain, it's a bad idea.\n",
      "If the implementation is easy to explain, it may be a good idea.\n",
      "Namespaces are one honking great idea -- let's do more of those!\n"
     ]
    }
   ],
   "source": [
    "import this"
   ]
  },
  {
   "cell_type": "markdown",
   "metadata": {
    "collapsed": true
   },
   "source": [
    "Язык имеет строгую динамическую типизацию данных:"
   ]
  },
  {
   "cell_type": "code",
   "execution_count": 26,
   "metadata": {},
   "outputs": [
    {
     "name": "stdout",
     "output_type": "stream",
     "text": [
      "11.5\n",
      "10\n"
     ]
    },
    {
     "ename": "TypeError",
     "evalue": "unsupported operand type(s) for +: 'int' and 'str'",
     "output_type": "error",
     "traceback": [
      "\u001b[1;31m---------------------------------------------------------------------------\u001b[0m",
      "\u001b[1;31mTypeError\u001b[0m                                 Traceback (most recent call last)",
      "\u001b[1;32m<ipython-input-26-4a07a0faec19>\u001b[0m in \u001b[0;36m<module>\u001b[1;34m()\u001b[0m\n\u001b[0;32m      5\u001b[0m \u001b[0mprint\u001b[0m\u001b[1;33m(\u001b[0m\u001b[0ma\u001b[0m\u001b[1;33m+\u001b[0m\u001b[0mb\u001b[0m\u001b[1;33m)\u001b[0m\u001b[1;33m\u001b[0m\u001b[0m\n\u001b[0;32m      6\u001b[0m \u001b[0mprint\u001b[0m\u001b[1;33m(\u001b[0m\u001b[0ma\u001b[0m\u001b[1;33m+\u001b[0m\u001b[0ma\u001b[0m\u001b[1;33m)\u001b[0m\u001b[1;33m\u001b[0m\u001b[0m\n\u001b[1;32m----> 7\u001b[1;33m \u001b[0mprint\u001b[0m\u001b[1;33m(\u001b[0m\u001b[0ma\u001b[0m \u001b[1;33m+\u001b[0m \u001b[0mc\u001b[0m\u001b[1;33m)\u001b[0m  \u001b[1;31m# Ошибка! Неявное приведение типов не поддерживается!\u001b[0m\u001b[1;33m\u001b[0m\u001b[0m\n\u001b[0m",
      "\u001b[1;31mTypeError\u001b[0m: unsupported operand type(s) for +: 'int' and 'str'"
     ]
    }
   ],
   "source": [
    "a = 5\n",
    "b = 6.5\n",
    "c = \"some string\"\n",
    "\n",
    "print(a+b)\n",
    "print(a+a)\n",
    "print(a + c)  # Ошибка! Неявное приведение типов не поддерживается!"
   ]
  },
  {
   "cell_type": "markdown",
   "metadata": {},
   "source": [
    "Язык поддерживает различные типы коллекций (моут хранить различные элементы. Приведем пример некоторых из них:\n",
    "\n",
    "* **Tuple (Кортеж)** -- Неизменяемая коллекция. Нельзя добавлять или изменять элемент. Доступ к элементу за `O(n)`, работает быстрее, чем list. Хешируемая.\n",
    "* **List (Список)** -- Изменяемая коллекция. Поддерживает добавление, изменение, удаление элемента \"на лету\". Доступ к элементу, добавление, удаление за `O(n)`. Не хешируемая.\n",
    "* **String (строка)** -- Не изменяемая, хешируемая. Используется для представления текста.\n",
    "* **Dict (Словарь)** -- Набор пар ключ-значение (ассоциативный массив). Ключ должен быть хешируемый. Доступ, добавление, изменение в среднем за `O(1)`, худший случай -- `O(n)`\n",
    "* **Set (Множество)** -- Неупорядоченный набор уникальных элементов. Элементы должн быть хешируемые. Доступ, добавление, изменение в среднем за `O(1)`, худший случай -- `O(n)`\n",
    "\n",
    "Особенности последних 2 коллекций заключается в том, что в их основе лежит хеш-таблица. Подробнее о временной сложности данных коллекция можно почитать <a href=\"https://wiki.python.org/moin/TimeComplexity\">тут</a>"
   ]
  },
  {
   "cell_type": "code",
   "execution_count": 28,
   "metadata": {},
   "outputs": [
    {
     "data": {
      "text/plain": [
       "['__abs__',\n",
       " '__add__',\n",
       " '__and__',\n",
       " '__bool__',\n",
       " '__ceil__',\n",
       " '__class__',\n",
       " '__delattr__',\n",
       " '__dir__',\n",
       " '__divmod__',\n",
       " '__doc__',\n",
       " '__eq__',\n",
       " '__float__',\n",
       " '__floor__',\n",
       " '__floordiv__',\n",
       " '__format__',\n",
       " '__ge__',\n",
       " '__getattribute__',\n",
       " '__getnewargs__',\n",
       " '__gt__',\n",
       " '__hash__',\n",
       " '__index__',\n",
       " '__init__',\n",
       " '__init_subclass__',\n",
       " '__int__',\n",
       " '__invert__',\n",
       " '__le__',\n",
       " '__lshift__',\n",
       " '__lt__',\n",
       " '__mod__',\n",
       " '__mul__',\n",
       " '__ne__',\n",
       " '__neg__',\n",
       " '__new__',\n",
       " '__or__',\n",
       " '__pos__',\n",
       " '__pow__',\n",
       " '__radd__',\n",
       " '__rand__',\n",
       " '__rdivmod__',\n",
       " '__reduce__',\n",
       " '__reduce_ex__',\n",
       " '__repr__',\n",
       " '__rfloordiv__',\n",
       " '__rlshift__',\n",
       " '__rmod__',\n",
       " '__rmul__',\n",
       " '__ror__',\n",
       " '__round__',\n",
       " '__rpow__',\n",
       " '__rrshift__',\n",
       " '__rshift__',\n",
       " '__rsub__',\n",
       " '__rtruediv__',\n",
       " '__rxor__',\n",
       " '__setattr__',\n",
       " '__sizeof__',\n",
       " '__str__',\n",
       " '__sub__',\n",
       " '__subclasshook__',\n",
       " '__truediv__',\n",
       " '__trunc__',\n",
       " '__xor__',\n",
       " 'bit_length',\n",
       " 'conjugate',\n",
       " 'denominator',\n",
       " 'from_bytes',\n",
       " 'imag',\n",
       " 'numerator',\n",
       " 'real',\n",
       " 'to_bytes']"
      ]
     },
     "execution_count": 28,
     "metadata": {},
     "output_type": "execute_result"
    }
   ],
   "source": [
    "dir(3)"
   ]
  },
  {
   "cell_type": "code",
   "execution_count": null,
   "metadata": {
    "collapsed": true
   },
   "outputs": [],
   "source": []
  }
 ],
 "metadata": {
  "kernelspec": {
   "display_name": "Python 3",
   "language": "python",
   "name": "python3"
  },
  "language_info": {
   "codemirror_mode": {
    "name": "ipython",
    "version": 3
   },
   "file_extension": ".py",
   "mimetype": "text/x-python",
   "name": "python",
   "nbconvert_exporter": "python",
   "pygments_lexer": "ipython3",
   "version": "3.6.3"
  }
 },
 "nbformat": 4,
 "nbformat_minor": 2
}
